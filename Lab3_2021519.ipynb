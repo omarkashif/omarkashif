{
 "cells": [
  {
   "cell_type": "markdown",
   "id": "5294972d",
   "metadata": {},
   "source": [
    "## Omar Kashif 2021519"
   ]
  },
  {
   "cell_type": "markdown",
   "id": "f73b263c",
   "metadata": {},
   "source": [
    "## Task 1"
   ]
  },
  {
   "cell_type": "code",
   "execution_count": 5,
   "id": "64e02bbf",
   "metadata": {},
   "outputs": [
    {
     "name": "stdout",
     "output_type": "stream",
     "text": [
      "Following is Breadth First Traversal: \n",
      "0 2 4 5 1 "
     ]
    }
   ],
   "source": [
    "import collections\n",
    "\n",
    "# BFS algorithm\n",
    "def bfs(graph, root):\n",
    "\n",
    "    visited, queue = set(), collections.deque([root])\n",
    "    visited.add(root)\n",
    "\n",
    "    while queue:\n",
    "        vertex = queue.popleft()\n",
    "        print(str(vertex) + \" \", end=\"\")\n",
    "\n",
    "        \n",
    "        for neighbour in graph[vertex]:\n",
    "            if neighbour not in visited:\n",
    "                visited.add(neighbour)\n",
    "                queue.append(neighbour)\n",
    "\n",
    "\n",
    "if __name__ == '__main__':\n",
    "    graph = {0: [2,4,5], 1: [4,5], 2: [0], 4: [1, 0], 5 : [1,0]}\n",
    "    print(\"Following is Breadth First Traversal: \")\n",
    "    bfs(graph, 0)\n"
   ]
  },
  {
   "cell_type": "code",
   "execution_count": 7,
   "id": "1c4baa28",
   "metadata": {},
   "outputs": [
    {
     "name": "stdout",
     "output_type": "stream",
     "text": [
      "DFS: \n",
      "2\n",
      "0\n",
      "5\n",
      "1\n",
      "4\n",
      "4\n"
     ]
    },
    {
     "data": {
      "text/plain": [
       "{'0', '1', '2', '4', '5'}"
      ]
     },
     "execution_count": 7,
     "metadata": {},
     "output_type": "execute_result"
    }
   ],
   "source": [
    "\n",
    "def dfs(graph, start, visited=None):\n",
    "    if visited is None:\n",
    "        visited = set()\n",
    "    visited.add(start)\n",
    "\n",
    "    print(start)\n",
    "\n",
    "    for next in graph[start] - visited:\n",
    "        dfs(graph, next, visited)\n",
    "    return visited\n",
    "\n",
    "\n",
    "graph = {'0': set(['2', '4','5']),\n",
    "         '1': set(['4','5']),\n",
    "         '2': set(['0']),\n",
    "         '4': set(['1','0']),\n",
    "         '5': set(['0', '1'])}\n",
    "\n",
    "print('DFS: ')\n",
    "dfs(graph, '2')"
   ]
  },
  {
   "cell_type": "markdown",
   "id": "dd5451cb",
   "metadata": {},
   "source": [
    "## Task 2"
   ]
  },
  {
   "cell_type": "code",
   "execution_count": 47,
   "id": "6464b020",
   "metadata": {},
   "outputs": [],
   "source": [
    "import random as r\n",
    "n= 10000\n",
    "l = []\n",
    "for i in range(n):\n",
    "    c = True\n",
    "    while(c):\n",
    "        x = r.randint(0,n*100000)\n",
    "        if x in l:\n",
    "            continue\n",
    "        else:\n",
    "            l.append(x)\n",
    "            c = False"
   ]
  },
  {
   "cell_type": "code",
   "execution_count": 48,
   "id": "ce51e01a",
   "metadata": {},
   "outputs": [],
   "source": [
    "class Node:\n",
    "    def __init__(self, val=None):\n",
    "        self.left = None\n",
    "        self.right = None\n",
    "        self.val = val\n",
    "\n",
    "class BST:\n",
    "    def __init__(self):\n",
    "        self.root = None\n",
    "\n",
    "    def insert(self, val):\n",
    "        if self.root is None:\n",
    "            self.root = Node(val)\n",
    "        else:\n",
    "            self._insert(val, self.root)\n",
    "\n",
    "    def _insert(self, val, curr_node):\n",
    "        if val < curr_node.val:\n",
    "            if curr_node.left is None:\n",
    "                curr_node.left = Node(val)\n",
    "            else:\n",
    "                self._insert(val, curr_node.left)\n",
    "        elif val > curr_node.val:\n",
    "            if curr_node.right is None:\n",
    "                curr_node.right = Node(val)\n",
    "            else:\n",
    "                self._insert(val, curr_node.right)\n",
    "        else:\n",
    "            print(\"Value already in tree.\")\n",
    "def generate_bst(lst):\n",
    "    bst = BST()\n",
    "    for val in lst:\n",
    "        bst.insert(val)\n",
    "    return bst\n",
    "tree = generate_bst(l)"
   ]
  },
  {
   "cell_type": "code",
   "execution_count": 49,
   "id": "e331a38b",
   "metadata": {},
   "outputs": [],
   "source": [
    "## DFS\n",
    "\n",
    "def dfs(root, goal):\n",
    "    print(root.val)\n",
    "    if root.val == goal:\n",
    "        return\n",
    "    if root.left is not None:\n",
    "        return dfs(root.left,goal)\n",
    "    if root.right is not None:\n",
    "        return dfs(root.right,goal)"
   ]
  },
  {
   "cell_type": "code",
   "execution_count": 91,
   "id": "1624d2d1",
   "metadata": {},
   "outputs": [
    {
     "name": "stdout",
     "output_type": "stream",
     "text": [
      "280046820\n",
      "93436864\n",
      "92880774\n",
      "85122738\n",
      "42732895\n",
      "36731030\n",
      "16628584\n",
      "14869678\n",
      "13551327\n",
      "2526618\n",
      "2067764\n",
      "235325\n",
      "113971\n",
      "21907\n",
      "Time taken by DFS:0.008022069931030273 s\n"
     ]
    }
   ],
   "source": [
    "import time\n",
    "\n",
    "start = time.time()\n",
    "\n",
    "root = tree.root\n",
    "goal = l[n-220]\n",
    "dfs(root,goal)\n",
    "end = time.time()\n",
    "print('Time taken by DFS:',end='')\n",
    "print(end - start,end= ' ')\n",
    "print('s')"
   ]
  },
  {
   "cell_type": "code",
   "execution_count": 92,
   "id": "f6ceeef4",
   "metadata": {},
   "outputs": [],
   "source": [
    "from collections import deque\n",
    "def bfs(root,goal):\n",
    "        if root is None:\n",
    "            return []\n",
    "        queue = deque([root])\n",
    "        result = []\n",
    "        while queue:\n",
    "            node = queue.popleft()\n",
    "            if node.val == goal:\n",
    "                return \n",
    "            result.append(node.val)\n",
    "            if node.left:\n",
    "                queue.append(node.left)\n",
    "            if node.right:\n",
    "                queue.append(node.right)\n",
    "        return result"
   ]
  },
  {
   "cell_type": "code",
   "execution_count": 94,
   "id": "7a6d3bee",
   "metadata": {},
   "outputs": [
    {
     "name": "stdout",
     "output_type": "stream",
     "text": [
      "Time taken by BFS:0.008015871047973633 s\n"
     ]
    }
   ],
   "source": [
    "start = time.time()\n",
    "\n",
    "root = tree.root\n",
    "goal = l[n-220]\n",
    "bfs(root,goal)\n",
    "end = time.time()\n",
    "print('Time taken by BFS:',end='')\n",
    "print(end - start,end= ' ')\n",
    "print('s')"
   ]
  },
  {
   "cell_type": "markdown",
   "id": "7cb1792d",
   "metadata": {},
   "source": [
    "## Task 3"
   ]
  },
  {
   "cell_type": "code",
   "execution_count": 95,
   "id": "928e8563",
   "metadata": {},
   "outputs": [],
   "source": [
    "from binarytree import Node"
   ]
  },
  {
   "cell_type": "code",
   "execution_count": 96,
   "id": "7f706974",
   "metadata": {},
   "outputs": [
    {
     "name": "stdout",
     "output_type": "stream",
     "text": [
      "\n",
      "    ____14____________\n",
      "   /                  \\\n",
      "  10               ____55_______________\n",
      " /  \\             /                     \\\n",
      "9    12      ____29               _______99\n",
      "            /      \\             /\n",
      "           15       53      ____88___\n",
      "             \\             /         \\\n",
      "              24          61         _98\n",
      "                            \\       /\n",
      "                             85    90\n",
      "\n"
     ]
    }
   ],
   "source": [
    "root = Node(14)\n",
    "root.left = Node(10)\n",
    "root.right = Node(55)\n",
    "root.left.left = Node(9)\n",
    "root.left.right = Node(12)\n",
    "root.right.left = Node(29)\n",
    "root.right.right = Node(99)\n",
    "root.right.left.left = Node(15)\n",
    "root.right.left.right = Node(53)\n",
    "root.right.left.left.right = Node(24)\n",
    "root.right.right = Node(99)\n",
    "root.right.right.left = Node(88)\n",
    "root.right.right.left.left = Node(61)\n",
    "root.right.right.left.right = Node(98)\n",
    "root.right.right.left.left.right = Node(85)\n",
    "root.right.right.left.right.left = Node(90)\n",
    "print(root)"
   ]
  },
  {
   "cell_type": "code",
   "execution_count": 103,
   "id": "8f86616d",
   "metadata": {},
   "outputs": [],
   "source": [
    "from anytree import Node, RenderTree"
   ]
  },
  {
   "cell_type": "code",
   "execution_count": 99,
   "id": "103b6128",
   "metadata": {},
   "outputs": [
    {
     "name": "stdout",
     "output_type": "stream",
     "text": [
      "Node representation:  Node('/14/55/99/88/98')\n"
     ]
    }
   ],
   "source": [
    "a = Node(14)\n",
    "b = Node(10,parent=a)\n",
    "c = Node(55,parent=a)\n",
    "d = Node(9,b)\n",
    "e = Node(12,b)\n",
    "f = Node(29,c)\n",
    "g = Node(99,c)\n",
    "h = Node(15,f)\n",
    "i = Node(53,f)\n",
    "j = Node(88,g)\n",
    "k = Node(24,h)\n",
    "l = Node(61,j)\n",
    "m = Node(98,j)\n",
    "n = Node(85,l)\n",
    "o = Node(90,m)\n",
    "print('Node representation: ',m)"
   ]
  },
  {
   "cell_type": "code",
   "execution_count": 100,
   "id": "4170c1be",
   "metadata": {},
   "outputs": [
    {
     "name": "stdout",
     "output_type": "stream",
     "text": [
      "14\n",
      "├── 10\n",
      "│   ├── 9\n",
      "│   └── 12\n",
      "└── 55\n",
      "    ├── 29\n",
      "    │   ├── 15\n",
      "    │   │   └── 24\n",
      "    │   └── 53\n",
      "    └── 99\n",
      "        └── 88\n",
      "            ├── 61\n",
      "            │   └── 85\n",
      "            └── 98\n",
      "                └── 90\n"
     ]
    }
   ],
   "source": [
    "for pre, fill, node in RenderTree(a):\n",
    "    print(\"%s%s\" % (pre, node.name))"
   ]
  },
  {
   "cell_type": "code",
   "execution_count": 104,
   "id": "32705c11",
   "metadata": {},
   "outputs": [],
   "source": [
    "from treelib import Node, Tree"
   ]
  },
  {
   "cell_type": "code",
   "execution_count": 105,
   "id": "b29afd55",
   "metadata": {},
   "outputs": [
    {
     "name": "stdout",
     "output_type": "stream",
     "text": [
      "14\n",
      "├── 10\n",
      "│   ├── 9\n",
      "│   └── 12\n",
      "└── 55\n",
      "\n"
     ]
    }
   ],
   "source": [
    "tree = Tree()\n",
    "tree.create_node(14,'a')\n",
    "tree.create_node(10,'b','a')\n",
    "tree.create_node(55,'c','a')\n",
    "tree.create_node(9,'d','b')\n",
    "tree.create_node(12,'e','b')\n",
    "tree.show()"
   ]
  },
  {
   "cell_type": "markdown",
   "id": "f8bf5ff3",
   "metadata": {},
   "source": [
    "## Task 4"
   ]
  },
  {
   "cell_type": "code",
   "execution_count": 106,
   "id": "90997f17",
   "metadata": {},
   "outputs": [],
   "source": [
    "import heapq\n",
    "\n",
    "\n",
    "def ucs(graph, start, goal):\n",
    "    # Keep track of visited nodes, their costs, and their parents\n",
    "    visited = {start: (0, None)}\n",
    "    # Use a priority queue to store nodes with the smallest cost first\n",
    "    frontier = [(0, start)]\n",
    "    while frontier:\n",
    "        # Pop the node with the smallest cost so far\n",
    "        (cost, current) = heapq.heappop(frontier)\n",
    "        # If we've reached the goal, construct and return the path\n",
    "        if current == goal:\n",
    "            path = []\n",
    "            while current is not None:\n",
    "                path.append(current)\n",
    "                current = visited[current][1]\n",
    "            path.reverse()\n",
    "            return (cost, path)\n",
    "        # Otherwise, add neighbors to the frontier if we haven't seen them before\n",
    "        for neighbor, neighbor_cost in graph[current].items():\n",
    "            new_cost = visited[current][0] + neighbor_cost\n",
    "            if neighbor not in visited or new_cost < visited[neighbor][0]:\n",
    "                visited[neighbor] = (new_cost, current)\n",
    "                heapq.heappush(frontier, (new_cost, neighbor))\n",
    "    # If we've explored the entire graph and haven't found the goal, return infinity and an empty path\n",
    "    return (float('inf'), [])\n",
    "\n"
   ]
  },
  {
   "cell_type": "code",
   "execution_count": 107,
   "id": "1b2c2b1c",
   "metadata": {},
   "outputs": [],
   "source": [
    "graph = {'A': {'B': 2, 'C': 3},\n",
    "         'B': {'A': 2, 'C': 1},\n",
    "         'C': {'A': 3, 'B': 1, 'D': 4},\n",
    "         'D': {'C': 4}}\n"
   ]
  },
  {
   "cell_type": "code",
   "execution_count": 108,
   "id": "5192b86d",
   "metadata": {},
   "outputs": [
    {
     "data": {
      "text/plain": [
       "(7, ['A', 'C', 'D'])"
      ]
     },
     "execution_count": 108,
     "metadata": {},
     "output_type": "execute_result"
    }
   ],
   "source": [
    "ucs(graph,'A','D')"
   ]
  },
  {
   "cell_type": "code",
   "execution_count": 109,
   "id": "3522bd25",
   "metadata": {},
   "outputs": [],
   "source": [
    "def build_dcitt(lis): \n",
    "    return {i[0] :i[1] for i in lis }"
   ]
  },
  {
   "cell_type": "code",
   "execution_count": 110,
   "id": "7a5f73f5",
   "metadata": {},
   "outputs": [
    {
     "data": {
      "text/plain": [
       "{0: {2: 1, 4: 3, 5: 4},\n",
       " 1: {4: 2, 5: 4},\n",
       " 2: {0: 1},\n",
       " 4: {1: 2, 0: 3},\n",
       " 5: {1: 4, 0: 5}}"
      ]
     },
     "execution_count": 110,
     "metadata": {},
     "output_type": "execute_result"
    }
   ],
   "source": [
    "## from task 1\n",
    "graph = {0: [(2,1),(4,3),(5,4)], 1: [(4,2),(5,4)], 2: [(0,1)], 4: [(1,2), (0,3)], 5 : [(1,4),(0,5)]}\n",
    "gd = {}\n",
    "for i in graph.keys():\n",
    "    gd.update({i:build_dcitt(graph.get(i))})\n",
    "gd"
   ]
  },
  {
   "cell_type": "code",
   "execution_count": 111,
   "id": "f2969cf1",
   "metadata": {},
   "outputs": [
    {
     "name": "stdout",
     "output_type": "stream",
     "text": [
      "Cost: 418\n",
      "Path: Arad -> Sibiu -> Rimnicu Vilcea -> Pitesti -> Bucharest\n"
     ]
    }
   ],
   "source": [
    "mp = {\n",
    "    'Arad': {'Zerind': 75, 'Sibiu': 140, 'Timisoara': 118},\n",
    "    'Zerind': {'Arad': 75, 'Oradea': 71},\n",
    "    'Oradea': {'Zerind': 71, 'Sibiu': 151},\n",
    "    'Sibiu': {'Arad': 140, 'Oradea': 151, 'Fagaras': 99, 'Rimnicu Vilcea': 80},\n",
    "    'Fagaras': {'Sibiu': 99, 'Bucharest': 211},\n",
    "    'Rimnicu Vilcea': {'Sibiu': 80, 'Pitesti': 97, 'Craiova': 146},\n",
    "    'Timisoara': {'Arad': 118, 'Lugoj': 111},\n",
    "    'Lugoj': {'Timisoara': 111, 'Mehadia': 70},\n",
    "    'Mehadia': {'Lugoj': 70, 'Drobeta': 75},\n",
    "    'Drobeta': {'Mehadia': 75, 'Craiova': 120},\n",
    "    'Craiova': {'Drobeta': 120, 'Rimnicu Vilcea': 146, 'Pitesti': 138},\n",
    "    'Pitesti': {'Rimnicu Vilcea': 97, 'Craiova': 138, 'Bucharest': 101},\n",
    "    'Bucharest': {'Pitesti': 101, 'Fagaras': 211, 'Giurgiu': 90, 'Urziceni': 85},\n",
    "    'Giurgiu': {'Bucharest': 90},\n",
    "    'Urziceni': {'Bucharest': 85, 'Hirsova': 98, 'Vaslui': 142},\n",
    "    'Hirsova': {'Urziceni': 98, 'Eforie': 86},\n",
    "    'Eforie': {'Hirsova': 86},\n",
    "    'Vaslui': {'Urziceni': 142, 'Iasi': 92},\n",
    "    'Iasi': {'Vaslui': 92, 'Neamt': 87},\n",
    "    'Neamt': {'Iasi': 87}\n",
    "}\n",
    "\n",
    "# Find the optimal path and cost from Arad to Bucharest\n",
    "start = 'Arad'\n",
    "goal = 'Bucharest'\n",
    "cost, path = ucs(mp, start, goal)\n",
    "\n",
    "print(\"Cost:\",cost)\n",
    "print(f\"Path: {' -> '.join(path)}\")\n"
   ]
  },
  {
   "cell_type": "markdown",
   "id": "c4f88499",
   "metadata": {},
   "source": [
    "## Task 5"
   ]
  },
  {
   "cell_type": "code",
   "execution_count": 22,
   "id": "d4e08b43",
   "metadata": {},
   "outputs": [
    {
     "name": "stdout",
     "output_type": "stream",
     "text": [
      "Requirement already satisfied: networkx[default] in c:\\users\\omark\\anaconda3\\lib\\site-packages (2.7.1)\n",
      "Requirement already satisfied: numpy>=1.19 in c:\\users\\omark\\anaconda3\\lib\\site-packages (from networkx[default]) (1.21.5)\n",
      "Requirement already satisfied: scipy>=1.8 in c:\\users\\omark\\anaconda3\\lib\\site-packages (from networkx[default]) (1.10.0)\n",
      "Requirement already satisfied: pandas>=1.3 in c:\\users\\omark\\anaconda3\\lib\\site-packages (from networkx[default]) (1.4.2)\n",
      "Requirement already satisfied: matplotlib>=3.4 in c:\\users\\omark\\appdata\\roaming\\python\\python39\\site-packages (from networkx[default]) (3.7.0)\n",
      "Requirement already satisfied: pillow>=6.2.0 in c:\\users\\omark\\anaconda3\\lib\\site-packages (from matplotlib>=3.4->networkx[default]) (9.0.1)\n",
      "Requirement already satisfied: packaging>=20.0 in c:\\users\\omark\\anaconda3\\lib\\site-packages (from matplotlib>=3.4->networkx[default]) (21.3)\n",
      "Requirement already satisfied: python-dateutil>=2.7 in c:\\users\\omark\\anaconda3\\lib\\site-packages (from matplotlib>=3.4->networkx[default]) (2.8.2)\n",
      "Requirement already satisfied: pyparsing>=2.3.1 in c:\\users\\omark\\anaconda3\\lib\\site-packages (from matplotlib>=3.4->networkx[default]) (3.0.4)\n",
      "Requirement already satisfied: contourpy>=1.0.1 in c:\\users\\omark\\appdata\\roaming\\python\\python39\\site-packages (from matplotlib>=3.4->networkx[default]) (1.0.7)\n",
      "Requirement already satisfied: kiwisolver>=1.0.1 in c:\\users\\omark\\anaconda3\\lib\\site-packages (from matplotlib>=3.4->networkx[default]) (1.3.2)\n",
      "Requirement already satisfied: fonttools>=4.22.0 in c:\\users\\omark\\anaconda3\\lib\\site-packages (from matplotlib>=3.4->networkx[default]) (4.25.0)\n",
      "Requirement already satisfied: importlib-resources>=3.2.0 in c:\\users\\omark\\appdata\\roaming\\python\\python39\\site-packages (from matplotlib>=3.4->networkx[default]) (5.12.0)\n",
      "Requirement already satisfied: cycler>=0.10 in c:\\users\\omark\\anaconda3\\lib\\site-packages (from matplotlib>=3.4->networkx[default]) (0.11.0)\n",
      "Requirement already satisfied: zipp>=3.1.0 in c:\\users\\omark\\anaconda3\\lib\\site-packages (from importlib-resources>=3.2.0->matplotlib>=3.4->networkx[default]) (3.7.0)\n",
      "Requirement already satisfied: pytz>=2020.1 in c:\\users\\omark\\anaconda3\\lib\\site-packages (from pandas>=1.3->networkx[default]) (2021.3)\n",
      "Requirement already satisfied: six>=1.5 in c:\\users\\omark\\anaconda3\\lib\\site-packages (from python-dateutil>=2.7->matplotlib>=3.4->networkx[default]) (1.16.0)\n"
     ]
    }
   ],
   "source": [
    "!pip install networkx[default]"
   ]
  },
  {
   "cell_type": "code",
   "execution_count": 112,
   "id": "1329e0a6",
   "metadata": {},
   "outputs": [
    {
     "ename": "TypeError",
     "evalue": "'_AxesStack' object is not callable",
     "output_type": "error",
     "traceback": [
      "\u001b[1;31m---------------------------------------------------------------------------\u001b[0m",
      "\u001b[1;31mTypeError\u001b[0m                                 Traceback (most recent call last)",
      "Input \u001b[1;32mIn [112]\u001b[0m, in \u001b[0;36m<cell line: 10>\u001b[1;34m()\u001b[0m\n\u001b[0;32m      8\u001b[0m \u001b[38;5;66;03m# Draw the graph using a circular layout\u001b[39;00m\n\u001b[0;32m      9\u001b[0m pos \u001b[38;5;241m=\u001b[39m nx\u001b[38;5;241m.\u001b[39mcircular_layout(G)\n\u001b[1;32m---> 10\u001b[0m \u001b[43mnx\u001b[49m\u001b[38;5;241;43m.\u001b[39;49m\u001b[43mdraw\u001b[49m\u001b[43m(\u001b[49m\u001b[43mG\u001b[49m\u001b[43m,\u001b[49m\u001b[43m \u001b[49m\u001b[43mpos\u001b[49m\u001b[43m,\u001b[49m\u001b[43m \u001b[49m\u001b[43mwith_labels\u001b[49m\u001b[38;5;241;43m=\u001b[39;49m\u001b[38;5;28;43;01mTrue\u001b[39;49;00m\u001b[43m)\u001b[49m\n\u001b[0;32m     12\u001b[0m \u001b[38;5;66;03m# Draw edge labels\u001b[39;00m\n\u001b[0;32m     13\u001b[0m edge_labels \u001b[38;5;241m=\u001b[39m nx\u001b[38;5;241m.\u001b[39mget_edge_attributes(G, \u001b[38;5;124m'\u001b[39m\u001b[38;5;124mweight\u001b[39m\u001b[38;5;124m'\u001b[39m)\n",
      "File \u001b[1;32m~\\anaconda3\\lib\\site-packages\\networkx\\drawing\\nx_pylab.py:112\u001b[0m, in \u001b[0;36mdraw\u001b[1;34m(G, pos, ax, **kwds)\u001b[0m\n\u001b[0;32m    110\u001b[0m cf\u001b[38;5;241m.\u001b[39mset_facecolor(\u001b[38;5;124m\"\u001b[39m\u001b[38;5;124mw\u001b[39m\u001b[38;5;124m\"\u001b[39m)\n\u001b[0;32m    111\u001b[0m \u001b[38;5;28;01mif\u001b[39;00m ax \u001b[38;5;129;01mis\u001b[39;00m \u001b[38;5;28;01mNone\u001b[39;00m:\n\u001b[1;32m--> 112\u001b[0m     \u001b[38;5;28;01mif\u001b[39;00m \u001b[43mcf\u001b[49m\u001b[38;5;241;43m.\u001b[39;49m\u001b[43m_axstack\u001b[49m\u001b[43m(\u001b[49m\u001b[43m)\u001b[49m \u001b[38;5;129;01mis\u001b[39;00m \u001b[38;5;28;01mNone\u001b[39;00m:\n\u001b[0;32m    113\u001b[0m         ax \u001b[38;5;241m=\u001b[39m cf\u001b[38;5;241m.\u001b[39madd_axes((\u001b[38;5;241m0\u001b[39m, \u001b[38;5;241m0\u001b[39m, \u001b[38;5;241m1\u001b[39m, \u001b[38;5;241m1\u001b[39m))\n\u001b[0;32m    114\u001b[0m     \u001b[38;5;28;01melse\u001b[39;00m:\n",
      "\u001b[1;31mTypeError\u001b[0m: '_AxesStack' object is not callable"
     ]
    },
    {
     "data": {
      "text/plain": [
       "<Figure size 432x288 with 0 Axes>"
      ]
     },
     "metadata": {},
     "output_type": "display_data"
    }
   ],
   "source": [
    "graph = {0: [(2,1),(4,3),(5,4)], 1: [(4,2),(5,4)], 2: [(0,1)], 4: [(1,2), (0,3)], 5 : [(1,4),(0,5)]}\n",
    "import networkx as nx\n",
    "import matplotlib.pyplot as plt\n",
    "\n",
    "# Create a networkx graph from the adjacency matrix\n",
    "G = nx.Graph(graph)\n",
    "\n",
    "# Draw the graph using a circular layout\n",
    "pos = nx.circular_layout(G)\n",
    "nx.draw(G, pos, with_labels=True)\n",
    "\n",
    "# Draw edge labels\n",
    "edge_labels = nx.get_edge_attributes(G, 'weight')\n",
    "nx.draw_networkx_edge_labels(G, pos, edge_labels=edge_labels)\n",
    "\n",
    "# Show the graph\n",
    "plt.show()"
   ]
  },
  {
   "cell_type": "code",
   "execution_count": 139,
   "id": "0cb41465",
   "metadata": {},
   "outputs": [
    {
     "data": {
      "text/plain": [
       "{'Zerind': 75, 'Sibiu': 140, 'Timisoara': 118}"
      ]
     },
     "execution_count": 139,
     "metadata": {},
     "output_type": "execute_result"
    }
   ],
   "source": [
    "graph = {'A': {'B': 2, 'C': 3},\n",
    "         'B': {'A': 2, 'C': 1},\n",
    "         'C': {'A': 3, 'B': 1, 'D': 4},\n",
    "         'D': {'C': 4}}\n",
    "mp.get('Arad').keys()\n",
    "mp.get('Arad')[]"
   ]
  },
  {
   "cell_type": "code",
   "execution_count": 166,
   "id": "e0b259dc",
   "metadata": {},
   "outputs": [],
   "source": [
    "mp\n",
    "ed = []\n",
    "for i in mp.keys():\n",
    "    for j in mp.get(i).keys():\n",
    "        t = (i[0],j[0],mp.get(i)[j])\n",
    "        ed.append(t)\n"
   ]
  },
  {
   "cell_type": "code",
   "execution_count": 170,
   "id": "cb153916",
   "metadata": {},
   "outputs": [
    {
     "data": {
      "image/png": "[encoded data removed]",
      "text/plain": [
       "<Figure size 432x288 with 1 Axes>"
      ]
     },
     "metadata": {},
     "output_type": "display_data"
    }
   ],
   "source": [
    "import networkx as nx\n",
    "import matplotlib.pyplot as plt\n",
    "G = nx.Graph()\n",
    "G.add_weighted_edges_from(ed)\n",
    "\n",
    "\n",
    "nx.draw_networkx(G,with_labels=1)\n",
    "plt.show()"
   ]
  },
  {
   "cell_type": "code",
   "execution_count": 180,
   "id": "6d4f70d6",
   "metadata": {},
   "outputs": [],
   "source": [
    "graph = {'A': {'B': 2, 'C': 3},\n",
    "         'B': {'A': 2, 'C': 1},\n",
    "         'C': {'A': 3, 'B': 1, 'D': 4},\n",
    "         'D': {'C': 4}}"
   ]
  },
  {
   "cell_type": "code",
   "execution_count": 187,
   "id": "51380838",
   "metadata": {},
   "outputs": [
    {
     "data": {
      "image/png": "[encoded data removed]",
      "text/plain": [
       "<Figure size 432x288 with 1 Axes>"
      ]
     },
     "metadata": {},
     "output_type": "display_data"
    }
   ],
   "source": [
    "eg = []\n",
    "\n",
    "for i in graph.keys():\n",
    "    for j in graph.get(i):\n",
    "        t = (i,j,graph.get(i)[j])\n",
    "        eg.append(t)\n",
    "G1 = nx.Graph()\n",
    "G1.add_weighted_edges_from(eg)\n",
    "\n",
    "\n",
    "nx.draw_networkx(G1,with_labels=1)\n",
    "plt.show()"
   ]
  },
  {
   "cell_type": "code",
   "execution_count": null,
   "id": "f5a9fbe3",
   "metadata": {},
   "outputs": [],
   "source": []
  },
  {
   "cell_type": "code",
   "execution_count": null,
   "id": "8879ff91",
   "metadata": {},
   "outputs": [],
   "source": []
  },
  {
   "cell_type": "code",
   "execution_count": 60,
   "id": "e190afde",
   "metadata": {},
   "outputs": [
    {
     "name": "stdout",
     "output_type": "stream",
     "text": [
      "Requirement already satisfied: networkx in c:\\users\\omark\\anaconda3\\lib\\site-packages (2.7.1)\n",
      "Note: you may need to restart the kernel to use updated packages.\n"
     ]
    }
   ],
   "source": [
    "pip install networkx"
   ]
  },
  {
   "cell_type": "code",
   "execution_count": 50,
   "id": "411ce7be",
   "metadata": {},
   "outputs": [
    {
     "data": {
      "text/plain": [
       "75"
      ]
     },
     "execution_count": 50,
     "metadata": {},
     "output_type": "execute_result"
    }
   ],
   "source": [
    "x = [i for i in mp.keys()]\n",
    "graph = mp\n",
    "graph.get('Arad')['Zerind']"
   ]
  },
  {
   "cell_type": "code",
   "execution_count": 76,
   "id": "c47eeaca",
   "metadata": {},
   "outputs": [
    {
     "data": {
      "image/png": "[encoded data removed]",
      "text/plain": [
       "<Figure size 432x288 with 1 Axes>"
      ]
     },
     "metadata": {},
     "output_type": "display_data"
    }
   ],
   "source": [
    "import networkx as nx\n",
    "import matplotlib.pyplot as plt\n",
    "\n",
    "# create a graph\n",
    "G = nx.Graph()\n",
    "\n",
    "# add nodes to the graph\n",
    "G.add_nodes_from(x)\n",
    "\n",
    "\n",
    "for i in graph.keys():\n",
    "    for j in graph.get(i).keys():\n",
    "        G.add_edge(i,j,weight=graph.get(i)[j])\n",
    "# # add weighted edges to the graph\n",
    "# G.add_edge(1, 2, weight=0.5)\n",
    "# G.add_edge(1, 3, weight=0.3)\n",
    "# G.add_edge(2, 4, weight=1.2)\n",
    "# G.add_edge(3, 4, weight=0.7)\n",
    "# G.add_edge(4, 5, weight=2.0)\n",
    "\n",
    "# define positions of nodes\n",
    "pos = nx.spring_layout(G)\n",
    "\n",
    "# get edge weights\n",
    "edge_labels = nx.get_edge_attributes(G, \"weight\")\n",
    "\n",
    "# draw the graph\n",
    "nx.draw_networkx_nodes(G, pos)\n",
    "nx.draw_networkx_edges(G, pos)\n",
    "nx.draw_networkx_edge_labels(G, pos, edge_labels=edge_labels)\n",
    "nx.draw_networkx_labels(G, pos)\n",
    "plt.axis(\"off\")\n",
    "%matplotlib inline\n",
    "# show the graph\n",
    "plt.show()\n"
   ]
  },
  {
   "cell_type": "markdown",
   "id": "de33665f",
   "metadata": {},
   "source": [
    "## Task 6"
   ]
  },
  {
   "cell_type": "code",
   "execution_count": 118,
   "id": "3c8eeec0",
   "metadata": {},
   "outputs": [
    {
     "name": "stdout",
     "output_type": "stream",
     "text": [
      "Row position of queen in each column: [0, 4, 7, 5, 2, 6, 1, 3]\n"
     ]
    }
   ],
   "source": [
    "from queue import Queue\n",
    "\n",
    "def is_valid(state):\n",
    "    for i in range(len(state)):\n",
    "        for j in range(i+1, len(state)):\n",
    "            if state[i] == state[j] or abs(state[i]-state[j]) == j-i:\n",
    "                return False\n",
    "    return True\n",
    "\n",
    "def n_queens_bfs(n):\n",
    "    q = Queue()\n",
    "    q.put([])\n",
    "    while not q.empty():\n",
    "        state = q.get()\n",
    "        if len(state) == n:\n",
    "            if is_valid(state):\n",
    "                return state\n",
    "        else:\n",
    "            for i in range(n):\n",
    "                new_state = state + [i]\n",
    "                if is_valid(new_state):\n",
    "                    q.put(new_state)\n",
    "\n",
    "print('Row position of queen in each column:', end = ' ')\n",
    "print(n_queens_bfs(8)) \n"
   ]
  }
 ],
 "metadata": {
  "kernelspec": {
   "display_name": "Python 3 (ipykernel)",
   "language": "python",
   "name": "python3"
  },
  "language_info": {
   "codemirror_mode": {
    "name": "ipython",
    "version": 3
   },
   "file_extension": ".py",
   "mimetype": "text/x-python",
   "name": "python",
   "nbconvert_exporter": "python",
   "pygments_lexer": "ipython3",
   "version": "3.9.12"
  }
 },
 "nbformat": 4,
 "nbformat_minor": 5
}
